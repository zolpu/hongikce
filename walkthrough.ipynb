{
 "cells": [
  {
   "cell_type": "code",
   "execution_count": 1,
   "id": "bc1d0d8b-9f52-44d5-9445-74203a4b5e06",
   "metadata": {},
   "outputs": [
    {
     "name": "stdout",
     "output_type": "stream",
     "text": [
      "Python 3.9.13\n",
      "# conda environments:\n",
      "#\n",
      "base                  *  C:\\Users\\tlsgh\\anaconda3\n",
      "\n"
     ]
    },
    {
     "name": "stderr",
     "output_type": "stream",
     "text": [
      "\n",
      "EnvironmentLocationNotFound: Not a conda environment: C:\\Users\\tlsgh\\Desktop\\.conda\n",
      "\n"
     ]
    }
   ],
   "source": [
    "!python --version\n",
    "!conda env list\n",
    "!conda activate ../.conda"
   ]
  },
  {
   "cell_type": "code",
   "execution_count": 3,
   "id": "cf94fb06-e8c3-47aa-ab85-e79db7698137",
   "metadata": {},
   "outputs": [
    {
     "name": "stdout",
     "output_type": "stream",
     "text": [
      "Looking in indexes: https://download.pytorch.org/whl/nightly/cpu\n",
      "Collecting torch\n",
      "  Using cached https://download.pytorch.org/whl/nightly/cpu/torch-2.4.0.dev20240316%2Bcpu-cp39-cp39-win_amd64.whl (161.6 MB)\n",
      "Requirement already satisfied: sympy in c:\\users\\tlsgh\\anaconda3\\lib\\site-packages (from torch) (1.10.1)\n",
      "Requirement already satisfied: networkx in c:\\users\\tlsgh\\anaconda3\\lib\\site-packages (from torch) (2.8.4)\n",
      "Collecting mkl<=2021.4.0,>=2021.1.1\n",
      "  Using cached https://download.pytorch.org/whl/nightly/mkl-2021.4.0-py2.py3-none-win_amd64.whl (228.5 MB)\n",
      "Requirement already satisfied: fsspec in c:\\users\\tlsgh\\anaconda3\\lib\\site-packages (from torch) (2022.7.1)\n",
      "Requirement already satisfied: filelock in c:\\users\\tlsgh\\anaconda3\\lib\\site-packages (from torch) (3.6.0)\n",
      "Collecting typing-extensions>=4.8.0\n",
      "  Using cached https://download.pytorch.org/whl/nightly/typing_extensions-4.8.0-py3-none-any.whl (31 kB)\n",
      "Requirement already satisfied: jinja2 in c:\\users\\tlsgh\\anaconda3\\lib\\site-packages (from torch) (2.11.3)\n",
      "Collecting tbb==2021.*\n",
      "  Using cached https://download.pytorch.org/whl/nightly/tbb-2021.11.0-py3-none-win_amd64.whl (298 kB)\n",
      "Collecting intel-openmp==2021.*\n",
      "  Using cached https://download.pytorch.org/whl/nightly/intel_openmp-2021.4.0-py2.py3-none-win_amd64.whl (3.5 MB)\n",
      "Requirement already satisfied: MarkupSafe>=0.23 in c:\\users\\tlsgh\\anaconda3\\lib\\site-packages (from jinja2->torch) (2.0.1)\n",
      "Requirement already satisfied: mpmath>=0.19 in c:\\users\\tlsgh\\anaconda3\\lib\\site-packages (from sympy->torch) (1.2.1)\n",
      "Installing collected packages: tbb, intel-openmp, typing-extensions, mkl, torch\n",
      "  Attempting uninstall: tbb\n",
      "    Found existing installation: TBB 0.2\n",
      "Note: you may need to restart the kernel to use updated packages.\n"
     ]
    },
    {
     "name": "stderr",
     "output_type": "stream",
     "text": [
      "ERROR: Cannot uninstall 'TBB'. It is a distutils installed project and thus we cannot accurately determine which files belong to it which would lead to only a partial uninstall.\n"
     ]
    },
    {
     "name": "stdout",
     "output_type": "stream",
     "text": [
      "Note: you may need to restart the kernel to use updated packages.\n"
     ]
    },
    {
     "name": "stderr",
     "output_type": "stream",
     "text": [
      "ERROR: Could not open requirements file: [Errno 2] No such file or directory: 'requirements.txt'\n"
     ]
    }
   ],
   "source": []
  },
  {
   "cell_type": "code",
   "execution_count": null,
   "id": "c2bec1ec-12e7-49ff-a9bc-88bf16dc0418",
   "metadata": {},
   "outputs": [],
   "source": []
  }
 ],
 "metadata": {
  "kernelspec": {
   "display_name": "Python 3 (ipykernel)",
   "language": "python",
   "name": "python3"
  },
  "language_info": {
   "codemirror_mode": {
    "name": "ipython",
    "version": 3
   },
   "file_extension": ".py",
   "mimetype": "text/x-python",
   "name": "python",
   "nbconvert_exporter": "python",
   "pygments_lexer": "ipython3",
   "version": "3.9.13"
  }
 },
 "nbformat": 4,
 "nbformat_minor": 5
}
